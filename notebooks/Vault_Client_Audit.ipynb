{
 "cells": [
  {
   "cell_type": "markdown",
   "id": "85dd342c-1701-4770-8b9d-5fa2dadd9a53",
   "metadata": {},
   "source": [
    "# Vault Entity Audit\n"
   ]
  },
  {
   "cell_type": "markdown",
   "id": "b16fc068-cf67-4667-8c65-6f90761929ca",
   "metadata": {},
   "source": [
    "## Alogrithm\n",
    "\n",
    "- Query all auth methods and store in lookup table.\n",
    "    - Path\n",
    "    - Type\n",
    "    - Accessor (PK)\n",
    "- Lookup all client activity via export API\n",
    "    - ClientID\n",
    "    - Timestamp\n",
    "    - auth mount accessor\n",
    "- Perform Look-up on client-id       "
   ]
  },
  {
   "cell_type": "markdown",
   "id": "93b8b154-34ea-48f2-80b1-10dc11bcd275",
   "metadata": {},
   "source": [
    "## Set Environment"
   ]
  },
  {
   "cell_type": "code",
   "execution_count": 14,
   "id": "cd605f8a-c018-4676-ad62-8fe14b70d000",
   "metadata": {},
   "outputs": [],
   "source": [
    "import os\n",
    "import requests\n",
    "import json\n",
    "import datetime\n",
    "import pprint\n",
    "import csv\n",
    "import pandas as pd\n",
    "import matplotlib.pyplot as plt"
   ]
  },
  {
   "cell_type": "code",
   "execution_count": 9,
   "id": "ce4c9ad4-b2fe-4265-82f6-2cb0d9e38844",
   "metadata": {},
   "outputs": [],
   "source": [
    "# Set my environment\n",
    "# os.environ['VAULT_ADDR'] =  'http://127.0.0.1:8200'\n",
    "# os.environ['VAULT_TOKEN'] = 'hvs.4O3Nh0I75YUMdZZS99cJt8xk'\n",
    "# os.environ['VAULT_TOKEN'] = 'hvs.CAESIPA6tTKqzn_UiXnRRmstt7nuhJYadG_ed7itSZbBo-pyGh4KHGh2cy54MTlhZmt0cGFnOHF0bjBCQVRVdVhFcHE'"
   ]
  },
  {
   "cell_type": "code",
   "execution_count": 10,
   "id": "e223f3a5-c58b-41c0-a6a2-b9d98794121a",
   "metadata": {},
   "outputs": [],
   "source": [
    "# Environment Variables Should be set ahead of time\n",
    "token = os.getenv('VAULT_TOKEN')\n",
    "base_url = os.getenv('VAULT_ADDR')"
   ]
  },
  {
   "cell_type": "markdown",
   "id": "fd13b369-10be-4803-aab3-fa480f44c054",
   "metadata": {},
   "source": [
    "## Build Report"
   ]
  },
  {
   "cell_type": "code",
   "execution_count": 11,
   "id": "b0a75119-557c-40bb-bafa-fc1209b73f87",
   "metadata": {},
   "outputs": [
    {
     "name": "stdout",
     "output_type": "stream",
     "text": [
      "{'client_id': 'hLg1a3Y6NnyKJpMBfSb4aY+a6eQSM+oxJ18OCWPFb9U=', 'namespace_id': 'root', 'timestamp': 1677446143, 'non_entity': True, 'mount_accessor': 'auth_token_02aa59c9', 'date': '2023-02-26 21:15:43', 'auth_type': 'token', 'auth_path': 'token/'}\n",
      "non-entity\n",
      "{'client_id': '00f6d8b7-8be0-7afb-ef49-96799166d59b', 'namespace_id': 'root', 'timestamp': 1677696353, 'mount_accessor': 'auth_github_d77548a3', 'date': '2023-03-01 18:45:53', 'auth_type': 'github', 'auth_path': 'github/'}\n",
      "entity\n",
      "[   {   'auth_path': 'token/',\n",
      "        'auth_type': 'token',\n",
      "        'client_id': 'hLg1a3Y6NnyKJpMBfSb4aY+a6eQSM+oxJ18OCWPFb9U=',\n",
      "        'date': '2023-02-26 21:15:43',\n",
      "        'mount_accessor': 'auth_token_02aa59c9',\n",
      "        'name': 'Non-Entity',\n",
      "        'namespace_id': 'root',\n",
      "        'non_entity': True,\n",
      "        'timestamp': 1677446143},\n",
      "    {   'auth_path': 'github/',\n",
      "        'auth_type': 'github',\n",
      "        'client_id': '00f6d8b7-8be0-7afb-ef49-96799166d59b',\n",
      "        'date': '2023-03-01 18:45:53',\n",
      "        'mount_accessor': 'auth_github_d77548a3',\n",
      "        'name': 'brightblueray',\n",
      "        'namespace_id': 'root',\n",
      "        'timestamp': 1677696353}]\n"
     ]
    }
   ],
   "source": [
    "\n",
    "# Build Auth-Lookup Table\n",
    "auth_url = f\"{base_url}/v1/sys/auth\"\n",
    "headers = {\n",
    "    \"X-Vault-Token\": token,\n",
    "    \"accept\": \"*/*\"\n",
    "}\n",
    "\n",
    "auth_lookup = {}\n",
    "response = requests.get(auth_url, headers=headers)\n",
    "data = response.json()\n",
    "for path, auth_info in data.items():\n",
    "    if isinstance(auth_info, dict) and 'accessor' in auth_info and 'type' in auth_info:\n",
    "        accessor = auth_info['accessor']\n",
    "        auth_type = auth_info['type']\n",
    "        auth_lookup[accessor] = {\"path\": path, \"type\": auth_type}\n",
    "\n",
    "# headers = {\n",
    "#     \"X-Vault-Token\": token\n",
    "# }\n",
    "\n",
    "url = f'{base_url}/v1/sys/internal/counters/activity/export'\n",
    "response = requests.get(url, headers=headers)\n",
    "lines = response.text.strip().split(\"\\n\")\n",
    "\n",
    "client_data= []\n",
    "for line in lines:\n",
    "    try: \n",
    "        data = json.loads(line)\n",
    "        timestamp = data.get('timestamp', 0)\n",
    "        human_ts = datetime.datetime.utcfromtimestamp(timestamp).strftime('%Y-%m-%d %H:%M:%S')\n",
    "        # print (human_ts)\n",
    "        # data['timestamp'] = human_ts\n",
    "        data['date'] = human_ts\n",
    "        data['auth_type'] = auth_lookup[data.get('mount_accessor')]['type']\n",
    "        data['auth_path'] = auth_lookup[data.get('mount_accessor')]['path']\n",
    "        client_data.append(data)\n",
    "    except json.JSONDecodeError as e:\n",
    "        print (f\"Error decoding JSON: {e}\")\n",
    "\n",
    "# Add Entity Details\n",
    "entity_url_template = f\"{base_url}/v1/identity/entity/id/{{client_id}}\"\n",
    "\n",
    "for client in client_data:\n",
    "    print (client)\n",
    "    client_id = client['client_id']\n",
    "    mount_accessor = client['mount_accessor']\n",
    "    entity_url = entity_url_template.format(client_id=client_id)\n",
    "    isNonEntity = client.get('non_entity', False)\n",
    "    \n",
    "    if isNonEntity:\n",
    "        print (\"non-entity\")\n",
    "        client['name'] = \"Non-Entity\"\n",
    "    else:\n",
    "        print (\"entity\")\n",
    "        entity_response = requests.get(entity_url, headers=headers)\n",
    "        entity_data = entity_response.json()\n",
    "        for alias in entity_data.get('data',{}).get('aliases',[]):\n",
    "            if alias.get('mount_accessor') == mount_accessor:\n",
    "                client['name'] = alias.get('name')\n",
    "                break\n",
    "\n",
    "pprint.pprint(client_data, indent=4)\n"
   ]
  },
  {
   "cell_type": "markdown",
   "id": "5995a51b-a656-4425-af03-e3e86be87622",
   "metadata": {},
   "source": [
    "## Generate CSV"
   ]
  },
  {
   "cell_type": "code",
   "execution_count": 15,
   "id": "904f5828-0d6d-4ec2-9dba-c34ff4da762f",
   "metadata": {},
   "outputs": [],
   "source": [
    "# Rearrange columns order\n",
    "reordered_fieldnames = [\n",
    "    'timestamp', 'date', 'namespace_id', 'auth_type', 'auth_path', 'name', 'non_entity', 'mount_accessor', 'client_id'\n",
    "]\n",
    "\n",
    "# Output to CSV with reordered columns\n",
    "csv_file = 'client_data.csv'\n",
    "\n",
    "with open(csv_file, 'w', newline='') as f:\n",
    "    csv_writer = csv.DictWriter(f, fieldnames=reordered_fieldnames)\n",
    "    csv_writer.writeheader()\n",
    "    csv_writer.writerows(client_data)\n"
   ]
  },
  {
   "cell_type": "markdown",
   "id": "c30afa00-4853-4532-92e2-5d4bd24ac21e",
   "metadata": {},
   "source": [
    "## Visualization"
   ]
  },
  {
   "cell_type": "code",
   "execution_count": 12,
   "id": "83fb3e2e-e1d3-4798-a53f-53fde1199208",
   "metadata": {},
   "outputs": [
    {
     "data": {
      "image/png": "[encoded data removed]",
      "text/plain": [
       "<Figure size 1000x600 with 1 Axes>"
      ]
     },
     "metadata": {},
     "output_type": "display_data"
    }
   ],
   "source": [
    "import pandas as pd\n",
    "import matplotlib.pyplot as plt\n",
    "# Convert data to pandas DataFrame\n",
    "df = pd.DataFrame(client_data)\n",
    "\n",
    "# Convert 'date' column to datetime type\n",
    "df['date'] = pd.to_datetime(df['date'])\n",
    "\n",
    "# Group data by month and auth_type\n",
    "df_grouped = df.groupby([df['date'].dt.year, df['date'].dt.month, 'auth_type'])['client_id'].count().unstack(fill_value=0)\n",
    "\n",
    "# Create a stacked bar chart\n",
    "ax = df_grouped.plot(kind='bar', stacked=True, figsize=(10, 6))\n",
    "ax.set_xlabel('Month')\n",
    "ax.set_ylabel('Number of Clients')\n",
    "ax.set_title('Number of Clients per Month by Auth Type')\n",
    "plt.xticks(rotation=0)\n",
    "plt.legend(title='Auth Type')\n",
    "plt.tight_layout()\n",
    "plt.show()\n",
    "\n",
    "\n",
    "\n"
   ]
  },
  {
   "cell_type": "code",
   "execution_count": null,
   "id": "c3f056ad-910d-4dcf-916a-3372867ffa5d",
   "metadata": {},
   "outputs": [],
   "source": []
  }
 ],
 "metadata": {
  "kernelspec": {
   "display_name": "Python 3 (ipykernel)",
   "language": "python",
   "name": "python3"
  },
  "language_info": {
   "codemirror_mode": {
    "name": "ipython",
    "version": 3
   },
   "file_extension": ".py",
   "mimetype": "text/x-python",
   "name": "python",
   "nbconvert_exporter": "python",
   "pygments_lexer": "ipython3",
   "version": "3.8.16"
  }
 },
 "nbformat": 4,
 "nbformat_minor": 5
}
